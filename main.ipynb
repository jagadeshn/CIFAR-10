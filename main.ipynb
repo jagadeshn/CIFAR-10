{
 "cells": [
  {
   "cell_type": "code",
   "execution_count": 50,
   "metadata": {},
   "outputs": [],
   "source": [
    "import import_ipynb\n",
    "from helper import *\n",
    "import tensorflow as tf"
   ]
  },
  {
   "cell_type": "code",
   "execution_count": 51,
   "metadata": {},
   "outputs": [],
   "source": [
    "import numpy as np\n",
    "import matplotlib\n",
    "from matplotlib import pyplot as plt\n",
    "from keras.models import Sequential\n",
    "from keras.optimizers import Adam\n",
    "from keras.callbacks import ModelCheckpoint\n",
    "from keras.models import load_model\n",
    "from keras.layers import Lambda, Conv2D, MaxPooling2D, Dropout, Dense, Flatten, Activation\n",
    "matplotlib.style.use('ggplot')"
   ]
  },
  {
   "cell_type": "code",
   "execution_count": 52,
   "metadata": {},
   "outputs": [
    {
     "name": "stdout",
     "output_type": "stream",
     "text": [
      "Decoding file: C:\\Users\\jagadesh\\Jupyter Projects\\CIFAR-10/batches.meta\n",
      "['airplane', 'automobile', 'bird', 'cat', 'deer', 'dog', 'frog', 'horse', 'ship', 'truck']\n"
     ]
    }
   ],
   "source": [
    "class_names = get_class_names()\n",
    "print(class_names)"
   ]
  },
  {
   "cell_type": "code",
   "execution_count": 53,
   "metadata": {},
   "outputs": [],
   "source": [
    "IMAGE_SIZE = 32\n",
    "CHANNELS = 32"
   ]
  },
  {
   "cell_type": "code",
   "execution_count": 54,
   "metadata": {},
   "outputs": [
    {
     "name": "stdout",
     "output_type": "stream",
     "text": [
      "Decoding file: C:\\Users\\jagadesh\\Jupyter Projects\\CIFAR-10/data_batch_1\n",
      "Decoding file: C:\\Users\\jagadesh\\Jupyter Projects\\CIFAR-10/data_batch_2\n",
      "Decoding file: C:\\Users\\jagadesh\\Jupyter Projects\\CIFAR-10/data_batch_3\n",
      "Decoding file: C:\\Users\\jagadesh\\Jupyter Projects\\CIFAR-10/data_batch_4\n",
      "Decoding file: C:\\Users\\jagadesh\\Jupyter Projects\\CIFAR-10/data_batch_5\n"
     ]
    }
   ],
   "source": [
    "images_train, labels_train, class_train = get_train_data()"
   ]
  },
  {
   "cell_type": "code",
   "execution_count": null,
   "metadata": {},
   "outputs": [],
   "source": []
  },
  {
   "cell_type": "code",
   "execution_count": 55,
   "metadata": {},
   "outputs": [
    {
     "data": {
      "text/plain": [
       "array([[[0.60392157, 0.69411765, 0.73333333],\n",
       "        [0.49411765, 0.5372549 , 0.53333333],\n",
       "        [0.41176471, 0.40784314, 0.37254902],\n",
       "        ...,\n",
       "        [0.35686275, 0.37254902, 0.27843137],\n",
       "        [0.34117647, 0.35294118, 0.27843137],\n",
       "        [0.30980392, 0.31764706, 0.2745098 ]],\n",
       "\n",
       "       [[0.54901961, 0.62745098, 0.6627451 ],\n",
       "        [0.56862745, 0.6       , 0.60392157],\n",
       "        [0.49019608, 0.49019608, 0.4627451 ],\n",
       "        ...,\n",
       "        [0.37647059, 0.38823529, 0.30588235],\n",
       "        [0.30196078, 0.31372549, 0.24313725],\n",
       "        [0.27843137, 0.28627451, 0.23921569]],\n",
       "\n",
       "       [[0.54901961, 0.60784314, 0.64313725],\n",
       "        [0.54509804, 0.57254902, 0.58431373],\n",
       "        [0.45098039, 0.45098039, 0.43921569],\n",
       "        ...,\n",
       "        [0.30980392, 0.32156863, 0.25098039],\n",
       "        [0.26666667, 0.2745098 , 0.21568627],\n",
       "        [0.2627451 , 0.27058824, 0.21568627]],\n",
       "\n",
       "       ...,\n",
       "\n",
       "       [[0.68627451, 0.65490196, 0.65098039],\n",
       "        [0.61176471, 0.60392157, 0.62745098],\n",
       "        [0.60392157, 0.62745098, 0.66666667],\n",
       "        ...,\n",
       "        [0.16470588, 0.13333333, 0.14117647],\n",
       "        [0.23921569, 0.20784314, 0.22352941],\n",
       "        [0.36470588, 0.3254902 , 0.35686275]],\n",
       "\n",
       "       [[0.64705882, 0.60392157, 0.50196078],\n",
       "        [0.61176471, 0.59607843, 0.50980392],\n",
       "        [0.62352941, 0.63137255, 0.55686275],\n",
       "        ...,\n",
       "        [0.40392157, 0.36470588, 0.37647059],\n",
       "        [0.48235294, 0.44705882, 0.47058824],\n",
       "        [0.51372549, 0.4745098 , 0.51372549]],\n",
       "\n",
       "       [[0.63921569, 0.58039216, 0.47058824],\n",
       "        [0.61960784, 0.58039216, 0.47843137],\n",
       "        [0.63921569, 0.61176471, 0.52156863],\n",
       "        ...,\n",
       "        [0.56078431, 0.52156863, 0.54509804],\n",
       "        [0.56078431, 0.5254902 , 0.55686275],\n",
       "        [0.56078431, 0.52156863, 0.56470588]]])"
      ]
     },
     "execution_count": 55,
     "metadata": {},
     "output_type": "execute_result"
    }
   ],
   "source": [
    "images_train[1]"
   ]
  },
  {
   "cell_type": "code",
   "execution_count": 56,
   "metadata": {},
   "outputs": [
    {
     "name": "stdout",
     "output_type": "stream",
     "text": [
      "Decoding file: C:\\Users\\jagadesh\\Jupyter Projects\\CIFAR-10/batches.meta\n"
     ]
    },
    {
     "data": {
      "text/plain": [
       "['airplane',\n",
       " 'automobile',\n",
       " 'bird',\n",
       " 'cat',\n",
       " 'deer',\n",
       " 'dog',\n",
       " 'frog',\n",
       " 'horse',\n",
       " 'ship',\n",
       " 'truck']"
      ]
     },
     "execution_count": 56,
     "metadata": {},
     "output_type": "execute_result"
    }
   ],
   "source": [
    "class_names = get_class_names()\n",
    "class_names"
   ]
  },
  {
   "cell_type": "code",
   "execution_count": 57,
   "metadata": {},
   "outputs": [
    {
     "name": "stdout",
     "output_type": "stream",
     "text": [
      "[6 9 9 ... 9 1 1]\n"
     ]
    }
   ],
   "source": [
    "print(labels_train)"
   ]
  },
  {
   "cell_type": "code",
   "execution_count": 58,
   "metadata": {},
   "outputs": [
    {
     "name": "stdout",
     "output_type": "stream",
     "text": [
      "[[0. 0. 0. ... 0. 0. 0.]\n",
      " [0. 0. 0. ... 0. 0. 1.]\n",
      " [0. 0. 0. ... 0. 0. 1.]\n",
      " ...\n",
      " [0. 0. 0. ... 0. 0. 1.]\n",
      " [0. 1. 0. ... 0. 0. 0.]\n",
      " [0. 1. 0. ... 0. 0. 0.]]\n"
     ]
    }
   ],
   "source": [
    "print(class_train)"
   ]
  },
  {
   "cell_type": "code",
   "execution_count": 60,
   "metadata": {},
   "outputs": [
    {
     "name": "stdout",
     "output_type": "stream",
     "text": [
      "50000\n",
      "10000\n"
     ]
    }
   ],
   "source": [
    "print(len(images_train))\n",
    "print(len(images_test))"
   ]
  }
 ],
 "metadata": {
  "kernelspec": {
   "display_name": "Python 3",
   "language": "python",
   "name": "python3"
  },
  "language_info": {
   "codemirror_mode": {
    "name": "ipython",
    "version": 3
   },
   "file_extension": ".py",
   "mimetype": "text/x-python",
   "name": "python",
   "nbconvert_exporter": "python",
   "pygments_lexer": "ipython3",
   "version": "3.7.3"
  }
 },
 "nbformat": 4,
 "nbformat_minor": 4
}
